{
 "cells": [
  {
   "cell_type": "code",
   "execution_count": 4,
   "metadata": {},
   "outputs": [
    {
     "data": {
      "text/plain": [
       "('./Homework.txt', <http.client.HTTPMessage at 0x2049f7d2c48>)"
      ]
     },
     "execution_count": 4,
     "metadata": {},
     "output_type": "execute_result"
    }
   ],
   "source": [
    "import os\n",
    "#import urllib\n",
    "from urllib.request import urlretrieve\n",
    "\n",
    "urlretrieve(\"https://www.w3.org/TR/PNG/iso_8859-1.txt\", \"./Homework.txt\")\n",
    "\n"
   ]
  },
  {
   "cell_type": "code",
   "execution_count": 4,
   "metadata": {},
   "outputs": [
    {
     "name": "stdout",
     "output_type": "stream",
     "text": [
      "檔案存在\n"
     ]
    }
   ],
   "source": [
    "import os, sys\n",
    "\n",
    "dirs = os.listdir('./')\n",
    "\n",
    "#顯示所有檔案\n",
    "#for file in dirs:\n",
    "#    print(file)\n",
    "\n",
    "filepath = './Homework.txt'\n",
    "if os.path.isfile(filepath):\n",
    "    print(\"檔案存在\")\n",
    "else:\n",
    "    print(\"檔案不存在\")"
   ]
  },
  {
   "cell_type": "code",
   "execution_count": 7,
   "metadata": {},
   "outputs": [
    {
     "name": "stdout",
     "output_type": "stream",
     "text": [
      "字數: 11\n",
      "符合!\n"
     ]
    }
   ],
   "source": [
    "with open(\"Homework.txt\", \"w\") as f:\n",
    "    cal = f.write(\"Hello World\")\n",
    "    print(\"字數:\", cal)\n",
    "    \n",
    "    if cal == 11:\n",
    "        print(\"符合!\")\n",
    "    else:\n",
    "        print(\"字數不相符!\")"
   ]
  },
  {
   "cell_type": "code",
   "execution_count": null,
   "metadata": {},
   "outputs": [],
   "source": []
  }
 ],
 "metadata": {
  "kernelspec": {
   "display_name": "Python 3",
   "language": "python",
   "name": "python3"
  },
  "language_info": {
   "codemirror_mode": {
    "name": "ipython",
    "version": 3
   },
   "file_extension": ".py",
   "mimetype": "text/x-python",
   "name": "python",
   "nbconvert_exporter": "python",
   "pygments_lexer": "ipython3",
   "version": "3.7.4"
  }
 },
 "nbformat": 4,
 "nbformat_minor": 2
}
